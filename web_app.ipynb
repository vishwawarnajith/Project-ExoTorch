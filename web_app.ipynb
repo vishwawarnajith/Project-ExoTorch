{
 "cells": [
  {
   "cell_type": "markdown",
   "id": "24877849",
   "metadata": {},
   "source": [
    "Nasa Space Apps Challenge 2025 Hackathan\n",
    "\n",
    "A World Away: Hunting for Exoplanets with AI\n",
    "\n",
    "Notebook 2 (2 of 2)\n",
    "\n",
    "The dataset that is used to train the following models included in these notebooks comes from observations made by \"NASA Kepler Space Telescope\" and downloaded using \"Kepler labelled time-series dataset on Kaggle\". Each row represents a star’s flux measurements, with a label indicating whether a planet is present. The train dataset contains 5087 rows (Observations) and 3198 columns (features). Column 1 is the label vector and from columns 2 to 3198 are the flux values over time. There are 37 confirmed exoplanet-stars and 5050 non-exoplanet-stars in the train dataset. The challenge is to build a model that can identify exoplanets using their light curves. \n",
    "\n",
    "This notebook contains loading the trained model, preparing prediction function and building a simple web app using Gradio."
   ]
  },
  {
   "cell_type": "code",
   "execution_count": 6,
   "id": "10f4a6ba",
   "metadata": {},
   "outputs": [
    {
     "name": "stdout",
     "output_type": "stream",
     "text": [
      "* Running on local URL:  http://127.0.0.1:7865\n",
      "* To create a public link, set `share=True` in `launch()`.\n"
     ]
    },
    {
     "data": {
      "text/html": [
       "<div><iframe src=\"http://127.0.0.1:7865/\" width=\"100%\" height=\"500\" allow=\"autoplay; camera; microphone; clipboard-read; clipboard-write;\" frameborder=\"0\" allowfullscreen></iframe></div>"
      ],
      "text/plain": [
       "<IPython.core.display.HTML object>"
      ]
     },
     "metadata": {},
     "output_type": "display_data"
    },
    {
     "data": {
      "text/plain": []
     },
     "execution_count": 6,
     "metadata": {},
     "output_type": "execute_result"
    },
    {
     "name": "stdout",
     "output_type": "stream",
     "text": [
      "Created dataset file at: .gradio\\flagged\\dataset1.csv\n"
     ]
    }
   ],
   "source": [
    "import torch\n",
    "import torch.nn as nn\n",
    "import numpy as np\n",
    "import matplotlib.pyplot as plt\n",
    "import gradio as gr\n",
    "\n",
    "# This defines the architecture of previously trained MLP model\n",
    "class MLP(nn.Module):\n",
    "    def __init__(self, input_size):\n",
    "        super().__init__()\n",
    "        self.net = nn.Sequential(\n",
    "            nn.Linear(input_size, 128),\n",
    "            nn.ReLU(),\n",
    "            nn.Dropout(0.2),\n",
    "            nn.Linear(128, 64),\n",
    "            nn.ReLU(),\n",
    "            nn.Linear(64, 2)\n",
    "        )\n",
    "    def forward(self, x):\n",
    "        return self.net(x)\n",
    "\n",
    "# This loads the saved trained model \n",
    "input_size = 3197\n",
    "oversample_model = MLP(input_size)\n",
    "oversample_model.load_state_dict(torch.load(\"oversample_model.pth\", map_location=torch.device(\"cpu\")))\n",
    "oversample_model.eval()\n",
    "\n",
    "labels = [\"No Planet (0)\", \"Planet (1)\"]\n",
    "device = torch.device(\"cuda\" if torch.cuda.is_available() else \"cpu\")\n",
    "\n",
    "# This function plots the light curve and predicts the class\n",
    "def predict_lightcurve(row_values):\n",
    "    # Convert comma-separated string to float array\n",
    "    X = np.array([float(x) for x in row_values.split(',')], dtype=np.float32)\n",
    "    \n",
    "    # This standardizes input (zero mean, unit variance)\n",
    "    X_mean = X.mean()\n",
    "    X_std = X.std()\n",
    "    if X_std > 0:\n",
    "        X = (X - X_mean) / X_std\n",
    "    else:\n",
    "        X = X - X_mean \n",
    "\n",
    "    X_tensor = torch.tensor(X).unsqueeze(0).to(device)\n",
    "\n",
    "    with torch.no_grad():\n",
    "        out = oversample_model(X_tensor)\n",
    "        probs = torch.softmax(out, dim=1).cpu().numpy().flatten()\n",
    "\n",
    "    pred_class = labels[np.argmax(probs)]\n",
    "\n",
    "    # This plots the light curve\n",
    "    fig, ax = plt.subplots(figsize=(10, 3))\n",
    "    ax.plot(X, color=\"blue\")\n",
    "    ax.set_title(\n",
    "        f\"Prediction: {pred_class} | No Planet={probs[0]:.3f}, Planet={probs[1]:.3f}\"\n",
    "    )\n",
    "    ax.set_xlabel(\"Time steps\")\n",
    "    ax.set_ylabel(\"Flux\")\n",
    "\n",
    "    return (\n",
    "        f\"Predicted: {pred_class}\\n\"\n",
    "        f\"Probabilities -> No Planet: {probs[0]:.3f}, Planet: {probs[1]:.3f}\",\n",
    "        fig\n",
    "    )\n",
    "\n",
    "# This is the GUI using Gradio\n",
    "iface = gr.Interface(\n",
    "    fn=predict_lightcurve,\n",
    "    inputs=gr.Textbox(lines=5, placeholder=\"Enter comma-separated flux values\"),\n",
    "    outputs=[\n",
    "        \"text\",\n",
    "        gr.Plot()\n",
    "    ],\n",
    "    title=\"Exoplanet Detector\",\n",
    "    description=\"Paste a light curve (flux values) and predict if it's a planet or not. Also see the flux curve plotted.\"\n",
    ")\n",
    "\n",
    "iface.launch()"
   ]
  }
 ],
 "metadata": {
  "kernelspec": {
   "display_name": "Python 3",
   "language": "python",
   "name": "python3"
  },
  "language_info": {
   "codemirror_mode": {
    "name": "ipython",
    "version": 3
   },
   "file_extension": ".py",
   "mimetype": "text/x-python",
   "name": "python",
   "nbconvert_exporter": "python",
   "pygments_lexer": "ipython3",
   "version": "3.13.5"
  }
 },
 "nbformat": 4,
 "nbformat_minor": 5
}
